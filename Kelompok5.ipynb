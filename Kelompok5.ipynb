{
 "cells": [
  {
   "cell_type": "markdown",
   "id": "ffc3d699",
   "metadata": {},
   "source": [
    "# Kelompok 5\n",
    "\n",
    "## Member:\n",
    "1. Feri Andika - 32200007 :: Helps with Data Preprocessing\n",
    "2. Lorne Jovan Rustiadi - 32200034 :: Helps with the computational and determining the algorithm we'll be using\n",
    "3. Janice Claresta Lingga - 32200041 :: Helps with our report and beautify the markdown\n",
    "4. Andrew Virya Victorio - 32200091 :: Builts the neural network architecture and the model, also training the model\n",
    "\n",
    "## Table of Contents:\n",
    "\n",
    "- [1 - Packages](#1)\n",
    "- [2 - Load the Dataset](#2)\n",
    "    - [Get the Head](#get-head)\n",
    "- [3 - Data Exploration](#3)\n",
    "    - [Explanation](#explanation-1)\n",
    "    - [Russia Losses Equipment Section](#loss-eq)\n",
    "        - [Calculating using statistical method](#calc)\n",
    "        - [Changing NaN value in 'military_auto' column with Median value](#mil-med)\n",
    "        - [Changing NaN value in 'fuel_tank' column with Mean value](#fuel-mean)\n",
    "        - [Changing NaN value in 'special equipment' column with Mean value](#sp-eq)\n",
    "        - [Changing NaN value in 'mobile SRBM system' column with Mode value](#mobile-srbm)\n",
    "        - [Changing NaN value in 'vehicles and fuel tanks' column with Median value](#vehicles)\n",
    "    - [Russia Losses Personnel Section](#loss-personnel)\n",
    "        - [Dropping personnel* Column](#drop-personnel_asterisk)\n",
    "    - [Merge Both Datasets](#merge)\n",
    "- [4 - Data Visualization](#4)\n",
    "    - [Personnel Losses](#vis-personnel_loss)\n",
    "    - [POW](#vis-pow)\n",
    "    - [Equipment Losses](#vis-eq)\n",
    "    - [Air Equipment](#vis-air)\n",
    "    - [Artillery, AA and Support/Logistic Vehicle Losses (Land)](#vis-land)\n",
    "    - [Naval (Sea)](#vis-sea)\n",
    "    - [Visual Comparison Between Land, Air, and Naval Losses](#vis-brief)\n",
    "    - [Correlation Matrix](#corr-matrix)\n",
    "- [5 - Genetic Algorithm Implementation](#5)\n",
    "    - [Splitting the Data](#split-data)\n",
    "    - [Genetic Algorithm Process](#ga)\n",
    "- [6 - Building the Model](#6)\n",
    "    - [Linear Regression](#lin-regr)\n",
    "    - [Neural Network](#nn)"
   ]
  },
  {
   "cell_type": "markdown",
   "id": "b751b24b",
   "metadata": {},
   "source": [
    "<a name='1'></a>\n",
    "# 1 - Packages\n",
    "\n",
    "- [pandas](https://pandas.pydata.org/) is used to read and manipulate our dataset to perform data analysis job\n",
    "- [numpy](https://www.numpy.org/) is the fundamental package for scientific computing with Python\n",
    "- [statistics](https://docs.python.org/3/library/statistics.html) is the library use for statistical computing\n",
    "- [matplotlib](https://matplotlib.org/) is used for many tools like visualizing data, dates, and many more\n",
    "- [seaborn](https://seaborn.pydata.org/) is used for statistical data visualization\n",
    "- [scikit learn](https://scikit-learn.org/stable/index.html) is an open source ML library\n",
    "- [pygad](https://pygad.readthedocs.io/en/latest/#) is used for implementing Genetic Algorithm\n",
    "- [squarify](https://pypi.org/project/squarify/) is used for visualizing the comparison between equipment (Land, Air, Sea) loss"
   ]
  },
  {
   "cell_type": "code",
   "execution_count": 1,
   "id": "062049a4",
   "metadata": {},
   "outputs": [],
   "source": [
    "# Data library\n",
    "import pandas as pd\n",
    "import numpy as np\n",
    "import seaborn as sns\n",
    "import statistics as stat\n",
    "import squarify\n",
    "from matplotlib import pyplot as plt\n",
    "from matplotlib import dates as mdates\n",
    "from matplotlib import cbook as cbook\n",
    "from matplotlib import ticker as ticker\n",
    "from scipy.stats import pearsonr\n",
    "from sklearn import preprocessing\n",
    "\n",
    "# Machine Learning library\n",
    "import pygad\n",
    "from sklearn.model_selection import train_test_split\n",
    "from sklearn.neural_network import MLPRegressor\n",
    "from sklearn.linear_model import LinearRegression\n",
    "from sklearn.pipeline import make_pipeline\n",
    "from sklearn.inspection import PartialDependenceDisplay\n",
    "from sklearn.preprocessing import StandardScaler\n",
    "from sklearn.metrics import mean_squared_error, r2_score, confusion_matrix"
   ]
  },
  {
   "cell_type": "markdown",
   "id": "9d073b49",
   "metadata": {},
   "source": [
    "<a name='2'></a>\n",
    "# 2 - Load the Dataset"
   ]
  },
  {
   "cell_type": "code",
   "execution_count": 2,
   "id": "6784a65b",
   "metadata": {},
   "outputs": [],
   "source": [
    "df_equipment = pd.read_csv('russia_losses_equipment.csv')\n",
    "df_personnel = pd.read_csv('russia_losses_personnel.csv')"
   ]
  },
  {
   "cell_type": "markdown",
   "id": "4f47d1d8",
   "metadata": {},
   "source": [
    "<a name='get-head'></a>\n",
    "### Get the Head"
   ]
  },
  {
   "cell_type": "code",
   "execution_count": 3,
   "id": "5b640c69",
   "metadata": {},
   "outputs": [
    {
     "data": {
      "text/html": [
       "<div>\n",
       "<style scoped>\n",
       "    .dataframe tbody tr th:only-of-type {\n",
       "        vertical-align: middle;\n",
       "    }\n",
       "\n",
       "    .dataframe tbody tr th {\n",
       "        vertical-align: top;\n",
       "    }\n",
       "\n",
       "    .dataframe thead th {\n",
       "        text-align: right;\n",
       "    }\n",
       "</style>\n",
       "<table border=\"1\" class=\"dataframe\">\n",
       "  <thead>\n",
       "    <tr style=\"text-align: right;\">\n",
       "      <th></th>\n",
       "      <th>date</th>\n",
       "      <th>day</th>\n",
       "      <th>aircraft</th>\n",
       "      <th>helicopter</th>\n",
       "      <th>tank</th>\n",
       "      <th>APC</th>\n",
       "      <th>field artillery</th>\n",
       "      <th>MRL</th>\n",
       "      <th>military auto</th>\n",
       "      <th>fuel tank</th>\n",
       "      <th>drone</th>\n",
       "      <th>naval ship</th>\n",
       "      <th>anti-aircraft warfare</th>\n",
       "      <th>special equipment</th>\n",
       "      <th>mobile SRBM system</th>\n",
       "      <th>vehicles and fuel tanks</th>\n",
       "      <th>cruise missiles</th>\n",
       "    </tr>\n",
       "  </thead>\n",
       "  <tbody>\n",
       "    <tr>\n",
       "      <th>0</th>\n",
       "      <td>2022-02-25</td>\n",
       "      <td>2</td>\n",
       "      <td>10</td>\n",
       "      <td>7</td>\n",
       "      <td>80</td>\n",
       "      <td>516</td>\n",
       "      <td>49</td>\n",
       "      <td>4</td>\n",
       "      <td>100.0</td>\n",
       "      <td>60.0</td>\n",
       "      <td>0</td>\n",
       "      <td>2</td>\n",
       "      <td>0</td>\n",
       "      <td>NaN</td>\n",
       "      <td>NaN</td>\n",
       "      <td>NaN</td>\n",
       "      <td>NaN</td>\n",
       "    </tr>\n",
       "    <tr>\n",
       "      <th>1</th>\n",
       "      <td>2022-02-26</td>\n",
       "      <td>3</td>\n",
       "      <td>27</td>\n",
       "      <td>26</td>\n",
       "      <td>146</td>\n",
       "      <td>706</td>\n",
       "      <td>49</td>\n",
       "      <td>4</td>\n",
       "      <td>130.0</td>\n",
       "      <td>60.0</td>\n",
       "      <td>2</td>\n",
       "      <td>2</td>\n",
       "      <td>0</td>\n",
       "      <td>NaN</td>\n",
       "      <td>NaN</td>\n",
       "      <td>NaN</td>\n",
       "      <td>NaN</td>\n",
       "    </tr>\n",
       "    <tr>\n",
       "      <th>2</th>\n",
       "      <td>2022-02-27</td>\n",
       "      <td>4</td>\n",
       "      <td>27</td>\n",
       "      <td>26</td>\n",
       "      <td>150</td>\n",
       "      <td>706</td>\n",
       "      <td>50</td>\n",
       "      <td>4</td>\n",
       "      <td>130.0</td>\n",
       "      <td>60.0</td>\n",
       "      <td>2</td>\n",
       "      <td>2</td>\n",
       "      <td>0</td>\n",
       "      <td>NaN</td>\n",
       "      <td>NaN</td>\n",
       "      <td>NaN</td>\n",
       "      <td>NaN</td>\n",
       "    </tr>\n",
       "    <tr>\n",
       "      <th>3</th>\n",
       "      <td>2022-02-28</td>\n",
       "      <td>5</td>\n",
       "      <td>29</td>\n",
       "      <td>29</td>\n",
       "      <td>150</td>\n",
       "      <td>816</td>\n",
       "      <td>74</td>\n",
       "      <td>21</td>\n",
       "      <td>291.0</td>\n",
       "      <td>60.0</td>\n",
       "      <td>3</td>\n",
       "      <td>2</td>\n",
       "      <td>5</td>\n",
       "      <td>NaN</td>\n",
       "      <td>NaN</td>\n",
       "      <td>NaN</td>\n",
       "      <td>NaN</td>\n",
       "    </tr>\n",
       "    <tr>\n",
       "      <th>4</th>\n",
       "      <td>2022-03-01</td>\n",
       "      <td>6</td>\n",
       "      <td>29</td>\n",
       "      <td>29</td>\n",
       "      <td>198</td>\n",
       "      <td>846</td>\n",
       "      <td>77</td>\n",
       "      <td>24</td>\n",
       "      <td>305.0</td>\n",
       "      <td>60.0</td>\n",
       "      <td>3</td>\n",
       "      <td>2</td>\n",
       "      <td>7</td>\n",
       "      <td>NaN</td>\n",
       "      <td>NaN</td>\n",
       "      <td>NaN</td>\n",
       "      <td>NaN</td>\n",
       "    </tr>\n",
       "    <tr>\n",
       "      <th>5</th>\n",
       "      <td>2022-03-02</td>\n",
       "      <td>7</td>\n",
       "      <td>30</td>\n",
       "      <td>31</td>\n",
       "      <td>211</td>\n",
       "      <td>862</td>\n",
       "      <td>85</td>\n",
       "      <td>40</td>\n",
       "      <td>355.0</td>\n",
       "      <td>60.0</td>\n",
       "      <td>3</td>\n",
       "      <td>2</td>\n",
       "      <td>9</td>\n",
       "      <td>NaN</td>\n",
       "      <td>NaN</td>\n",
       "      <td>NaN</td>\n",
       "      <td>NaN</td>\n",
       "    </tr>\n",
       "    <tr>\n",
       "      <th>6</th>\n",
       "      <td>2022-03-03</td>\n",
       "      <td>8</td>\n",
       "      <td>30</td>\n",
       "      <td>31</td>\n",
       "      <td>217</td>\n",
       "      <td>900</td>\n",
       "      <td>90</td>\n",
       "      <td>42</td>\n",
       "      <td>374.0</td>\n",
       "      <td>60.0</td>\n",
       "      <td>3</td>\n",
       "      <td>2</td>\n",
       "      <td>11</td>\n",
       "      <td>NaN</td>\n",
       "      <td>NaN</td>\n",
       "      <td>NaN</td>\n",
       "      <td>NaN</td>\n",
       "    </tr>\n",
       "    <tr>\n",
       "      <th>7</th>\n",
       "      <td>2022-03-04</td>\n",
       "      <td>9</td>\n",
       "      <td>33</td>\n",
       "      <td>37</td>\n",
       "      <td>251</td>\n",
       "      <td>939</td>\n",
       "      <td>105</td>\n",
       "      <td>50</td>\n",
       "      <td>404.0</td>\n",
       "      <td>60.0</td>\n",
       "      <td>3</td>\n",
       "      <td>2</td>\n",
       "      <td>18</td>\n",
       "      <td>NaN</td>\n",
       "      <td>NaN</td>\n",
       "      <td>NaN</td>\n",
       "      <td>NaN</td>\n",
       "    </tr>\n",
       "    <tr>\n",
       "      <th>8</th>\n",
       "      <td>2022-03-05</td>\n",
       "      <td>10</td>\n",
       "      <td>39</td>\n",
       "      <td>40</td>\n",
       "      <td>269</td>\n",
       "      <td>945</td>\n",
       "      <td>105</td>\n",
       "      <td>50</td>\n",
       "      <td>409.0</td>\n",
       "      <td>60.0</td>\n",
       "      <td>3</td>\n",
       "      <td>2</td>\n",
       "      <td>19</td>\n",
       "      <td>NaN</td>\n",
       "      <td>NaN</td>\n",
       "      <td>NaN</td>\n",
       "      <td>NaN</td>\n",
       "    </tr>\n",
       "    <tr>\n",
       "      <th>9</th>\n",
       "      <td>2022-03-06</td>\n",
       "      <td>11</td>\n",
       "      <td>44</td>\n",
       "      <td>48</td>\n",
       "      <td>285</td>\n",
       "      <td>985</td>\n",
       "      <td>109</td>\n",
       "      <td>50</td>\n",
       "      <td>447.0</td>\n",
       "      <td>60.0</td>\n",
       "      <td>4</td>\n",
       "      <td>2</td>\n",
       "      <td>21</td>\n",
       "      <td>NaN</td>\n",
       "      <td>NaN</td>\n",
       "      <td>NaN</td>\n",
       "      <td>NaN</td>\n",
       "    </tr>\n",
       "  </tbody>\n",
       "</table>\n",
       "</div>"
      ],
      "text/plain": [
       "         date  day  aircraft  helicopter  tank  APC  field artillery  MRL  \\\n",
       "0  2022-02-25    2        10           7    80  516               49    4   \n",
       "1  2022-02-26    3        27          26   146  706               49    4   \n",
       "2  2022-02-27    4        27          26   150  706               50    4   \n",
       "3  2022-02-28    5        29          29   150  816               74   21   \n",
       "4  2022-03-01    6        29          29   198  846               77   24   \n",
       "5  2022-03-02    7        30          31   211  862               85   40   \n",
       "6  2022-03-03    8        30          31   217  900               90   42   \n",
       "7  2022-03-04    9        33          37   251  939              105   50   \n",
       "8  2022-03-05   10        39          40   269  945              105   50   \n",
       "9  2022-03-06   11        44          48   285  985              109   50   \n",
       "\n",
       "   military auto  fuel tank  drone  naval ship  anti-aircraft warfare  \\\n",
       "0          100.0       60.0      0           2                      0   \n",
       "1          130.0       60.0      2           2                      0   \n",
       "2          130.0       60.0      2           2                      0   \n",
       "3          291.0       60.0      3           2                      5   \n",
       "4          305.0       60.0      3           2                      7   \n",
       "5          355.0       60.0      3           2                      9   \n",
       "6          374.0       60.0      3           2                     11   \n",
       "7          404.0       60.0      3           2                     18   \n",
       "8          409.0       60.0      3           2                     19   \n",
       "9          447.0       60.0      4           2                     21   \n",
       "\n",
       "   special equipment  mobile SRBM system  vehicles and fuel tanks  \\\n",
       "0                NaN                 NaN                      NaN   \n",
       "1                NaN                 NaN                      NaN   \n",
       "2                NaN                 NaN                      NaN   \n",
       "3                NaN                 NaN                      NaN   \n",
       "4                NaN                 NaN                      NaN   \n",
       "5                NaN                 NaN                      NaN   \n",
       "6                NaN                 NaN                      NaN   \n",
       "7                NaN                 NaN                      NaN   \n",
       "8                NaN                 NaN                      NaN   \n",
       "9                NaN                 NaN                      NaN   \n",
       "\n",
       "   cruise missiles  \n",
       "0              NaN  \n",
       "1              NaN  \n",
       "2              NaN  \n",
       "3              NaN  \n",
       "4              NaN  \n",
       "5              NaN  \n",
       "6              NaN  \n",
       "7              NaN  \n",
       "8              NaN  \n",
       "9              NaN  "
      ]
     },
     "execution_count": 3,
     "metadata": {},
     "output_type": "execute_result"
    }
   ],
   "source": [
    "df_equipment.head(10)"
   ]
  },
  {
   "cell_type": "code",
   "execution_count": 4,
   "id": "a7dab657",
   "metadata": {},
   "outputs": [
    {
     "data": {
      "text/html": [
       "<div>\n",
       "<style scoped>\n",
       "    .dataframe tbody tr th:only-of-type {\n",
       "        vertical-align: middle;\n",
       "    }\n",
       "\n",
       "    .dataframe tbody tr th {\n",
       "        vertical-align: top;\n",
       "    }\n",
       "\n",
       "    .dataframe thead th {\n",
       "        text-align: right;\n",
       "    }\n",
       "</style>\n",
       "<table border=\"1\" class=\"dataframe\">\n",
       "  <thead>\n",
       "    <tr style=\"text-align: right;\">\n",
       "      <th></th>\n",
       "      <th>date</th>\n",
       "      <th>day</th>\n",
       "      <th>personnel</th>\n",
       "      <th>personnel*</th>\n",
       "      <th>POW</th>\n",
       "    </tr>\n",
       "  </thead>\n",
       "  <tbody>\n",
       "    <tr>\n",
       "      <th>0</th>\n",
       "      <td>2022-02-25</td>\n",
       "      <td>2</td>\n",
       "      <td>2800</td>\n",
       "      <td>about</td>\n",
       "      <td>0</td>\n",
       "    </tr>\n",
       "    <tr>\n",
       "      <th>1</th>\n",
       "      <td>2022-02-26</td>\n",
       "      <td>3</td>\n",
       "      <td>4300</td>\n",
       "      <td>about</td>\n",
       "      <td>0</td>\n",
       "    </tr>\n",
       "    <tr>\n",
       "      <th>2</th>\n",
       "      <td>2022-02-27</td>\n",
       "      <td>4</td>\n",
       "      <td>4500</td>\n",
       "      <td>about</td>\n",
       "      <td>0</td>\n",
       "    </tr>\n",
       "    <tr>\n",
       "      <th>3</th>\n",
       "      <td>2022-02-28</td>\n",
       "      <td>5</td>\n",
       "      <td>5300</td>\n",
       "      <td>about</td>\n",
       "      <td>0</td>\n",
       "    </tr>\n",
       "    <tr>\n",
       "      <th>4</th>\n",
       "      <td>2022-03-01</td>\n",
       "      <td>6</td>\n",
       "      <td>5710</td>\n",
       "      <td>about</td>\n",
       "      <td>200</td>\n",
       "    </tr>\n",
       "    <tr>\n",
       "      <th>5</th>\n",
       "      <td>2022-03-02</td>\n",
       "      <td>7</td>\n",
       "      <td>5840</td>\n",
       "      <td>about</td>\n",
       "      <td>200</td>\n",
       "    </tr>\n",
       "    <tr>\n",
       "      <th>6</th>\n",
       "      <td>2022-03-03</td>\n",
       "      <td>8</td>\n",
       "      <td>9000</td>\n",
       "      <td>about</td>\n",
       "      <td>200</td>\n",
       "    </tr>\n",
       "    <tr>\n",
       "      <th>7</th>\n",
       "      <td>2022-03-04</td>\n",
       "      <td>9</td>\n",
       "      <td>9166</td>\n",
       "      <td>about</td>\n",
       "      <td>200</td>\n",
       "    </tr>\n",
       "    <tr>\n",
       "      <th>8</th>\n",
       "      <td>2022-03-05</td>\n",
       "      <td>10</td>\n",
       "      <td>10000</td>\n",
       "      <td>about</td>\n",
       "      <td>216</td>\n",
       "    </tr>\n",
       "    <tr>\n",
       "      <th>9</th>\n",
       "      <td>2022-03-06</td>\n",
       "      <td>11</td>\n",
       "      <td>11000</td>\n",
       "      <td>about</td>\n",
       "      <td>232</td>\n",
       "    </tr>\n",
       "  </tbody>\n",
       "</table>\n",
       "</div>"
      ],
      "text/plain": [
       "         date  day  personnel personnel*  POW\n",
       "0  2022-02-25    2       2800      about    0\n",
       "1  2022-02-26    3       4300      about    0\n",
       "2  2022-02-27    4       4500      about    0\n",
       "3  2022-02-28    5       5300      about    0\n",
       "4  2022-03-01    6       5710      about  200\n",
       "5  2022-03-02    7       5840      about  200\n",
       "6  2022-03-03    8       9000      about  200\n",
       "7  2022-03-04    9       9166      about  200\n",
       "8  2022-03-05   10      10000      about  216\n",
       "9  2022-03-06   11      11000      about  232"
      ]
     },
     "execution_count": 4,
     "metadata": {},
     "output_type": "execute_result"
    }
   ],
   "source": [
    "df_personnel.head(10)"
   ]
  },
  {
   "cell_type": "markdown",
   "id": "a698eb61",
   "metadata": {},
   "source": [
    "<a name='3'></a>\n",
    "# 3 - Data Exploration"
   ]
  },
  {
   "cell_type": "code",
   "execution_count": 5,
   "id": "1143a917",
   "metadata": {},
   "outputs": [
    {
     "name": "stdout",
     "output_type": "stream",
     "text": [
      "<class 'pandas.core.frame.DataFrame'>\n",
      "RangeIndex: 91 entries, 0 to 90\n",
      "Data columns (total 17 columns):\n",
      " #   Column                   Non-Null Count  Dtype  \n",
      "---  ------                   --------------  -----  \n",
      " 0   date                     91 non-null     object \n",
      " 1   day                      91 non-null     int64  \n",
      " 2   aircraft                 91 non-null     int64  \n",
      " 3   helicopter               91 non-null     int64  \n",
      " 4   tank                     91 non-null     int64  \n",
      " 5   APC                      91 non-null     int64  \n",
      " 6   field artillery          91 non-null     int64  \n",
      " 7   MRL                      91 non-null     int64  \n",
      " 8   military auto            65 non-null     float64\n",
      " 9   fuel tank                65 non-null     float64\n",
      " 10  drone                    91 non-null     int64  \n",
      " 11  naval ship               91 non-null     int64  \n",
      " 12  anti-aircraft warfare    91 non-null     int64  \n",
      " 13  special equipment        72 non-null     float64\n",
      " 14  mobile SRBM system       36 non-null     float64\n",
      " 15  vehicles and fuel tanks  26 non-null     float64\n",
      " 16  cruise missiles          26 non-null     float64\n",
      "dtypes: float64(6), int64(10), object(1)\n",
      "memory usage: 12.2+ KB\n",
      "\n",
      "\n",
      "\n",
      "<class 'pandas.core.frame.DataFrame'>\n",
      "RangeIndex: 91 entries, 0 to 90\n",
      "Data columns (total 5 columns):\n",
      " #   Column      Non-Null Count  Dtype \n",
      "---  ------      --------------  ----- \n",
      " 0   date        91 non-null     object\n",
      " 1   day         91 non-null     int64 \n",
      " 2   personnel   91 non-null     int64 \n",
      " 3   personnel*  91 non-null     object\n",
      " 4   POW         91 non-null     int64 \n",
      "dtypes: int64(3), object(2)\n",
      "memory usage: 3.7+ KB\n"
     ]
    }
   ],
   "source": [
    "df_equipment.info()\n",
    "print('\\n\\n')\n",
    "df_personnel.info()"
   ]
  },
  {
   "cell_type": "markdown",
   "id": "91155185",
   "metadata": {},
   "source": [
    "<a name='explanation-1'></a>\n",
    "### Explanation\n",
    "\n",
    "> In russia_losses_equipment, there's a missing value we need to treat so the dataset will be usable to feed into our model. We also want to change the `date` type to `datetime` for time series analysis.\n",
    "\n",
    "```\n",
    "Time series analysis is a way of analyzing a sequence of data points collected of an interval of time.\n",
    "```\n",
    "\n",
    "1. Change the `date` type to datetime using `pandas` module\n",
    "2. Finding the value with Median/Mean/Mode a.k.a Statistical method for each column in each datasets\n",
    "3. Replacing the missing value with the calculated value for each column\n",
    "3. In personnel dataset, we will drop `personnel*` column since it doesn't bring any value to the data\n",
    "4. Merging both datasets into one"
   ]
  },
  {
   "cell_type": "code",
   "execution_count": 6,
   "id": "014acf7d",
   "metadata": {},
   "outputs": [],
   "source": [
    "# 1. Changing 'date' type to datetime\n",
    "df_equipment['date'] = pd.to_datetime(df_equipment['date'])\n",
    "df_personnel['date'] = pd.to_datetime(df_personnel['date'])"
   ]
  },
  {
   "cell_type": "markdown",
   "id": "2ac54c5b",
   "metadata": {},
   "source": [
    "<a name='calc'></a>\n",
    "## Calculating using statistical method\n",
    "\n",
    "<a name='loss-eq'></a>\n",
    "### Russia Losses Equipment Section"
   ]
  },
  {
   "cell_type": "markdown",
   "id": "7913535b",
   "metadata": {},
   "source": [
    "<a name='mil-med'></a>\n",
    "## Changing NaN value in 'military_auto' column with Median value"
   ]
  },
  {
   "cell_type": "code",
   "execution_count": 7,
   "id": "8df4eb3e",
   "metadata": {},
   "outputs": [
    {
     "data": {
      "text/plain": [
       "0      100.0\n",
       "1      130.0\n",
       "2      130.0\n",
       "3      291.0\n",
       "4      305.0\n",
       "       ...  \n",
       "60    1643.0\n",
       "61    1666.0\n",
       "62    1688.0\n",
       "63    1695.0\n",
       "64    1701.0\n",
       "Name: military auto, Length: 65, dtype: float64"
      ]
     },
     "execution_count": 7,
     "metadata": {},
     "output_type": "execute_result"
    }
   ],
   "source": [
    "df_equipment.loc[df_equipment['military auto'].notnull(), 'military auto']"
   ]
  },
  {
   "cell_type": "code",
   "execution_count": 8,
   "id": "9336b23e",
   "metadata": {},
   "outputs": [
    {
     "data": {
      "text/plain": [
       "1178.0"
      ]
     },
     "execution_count": 8,
     "metadata": {},
     "output_type": "execute_result"
    }
   ],
   "source": [
    "military_med = df_equipment['military auto'].median()\n",
    "military_med"
   ]
  },
  {
   "cell_type": "code",
   "execution_count": 9,
   "id": "8c16c708",
   "metadata": {},
   "outputs": [],
   "source": [
    "df_equipment['military auto'].fillna(value=military_med, inplace=True)"
   ]
  },
  {
   "cell_type": "markdown",
   "id": "8d5dc011",
   "metadata": {},
   "source": [
    "<a name='fuel-mean'></a>\n",
    "## Changing NaN value in 'fuel_tank' column with Mean value"
   ]
  },
  {
   "cell_type": "code",
   "execution_count": 10,
   "id": "7fc645a6",
   "metadata": {},
   "outputs": [
    {
     "data": {
      "text/plain": [
       "0     60.0\n",
       "1     60.0\n",
       "2     60.0\n",
       "3     60.0\n",
       "4     60.0\n",
       "      ... \n",
       "60    76.0\n",
       "61    76.0\n",
       "62    76.0\n",
       "63    76.0\n",
       "64    76.0\n",
       "Name: fuel tank, Length: 65, dtype: float64"
      ]
     },
     "execution_count": 10,
     "metadata": {},
     "output_type": "execute_result"
    }
   ],
   "source": [
    "df_equipment.loc[df_equipment['fuel tank'].notnull(), 'fuel tank']"
   ]
  },
  {
   "cell_type": "code",
   "execution_count": 11,
   "id": "dd97642c",
   "metadata": {},
   "outputs": [
    {
     "data": {
      "text/plain": [
       "69.32307692307693"
      ]
     },
     "execution_count": 11,
     "metadata": {},
     "output_type": "execute_result"
    }
   ],
   "source": [
    "fuel_mean = df_equipment['fuel tank'].mean()\n",
    "fuel_mean"
   ]
  },
  {
   "cell_type": "code",
   "execution_count": 12,
   "id": "3cdeef9e",
   "metadata": {},
   "outputs": [],
   "source": [
    "df_equipment['fuel tank'].fillna(value=fuel_mean, inplace=True)"
   ]
  },
  {
   "cell_type": "markdown",
   "id": "6dfa58a8",
   "metadata": {},
   "source": [
    "<a name='sp-eq'></a>\n",
    "## Changing NaN value in 'special equipment' column with Mean value"
   ]
  },
  {
   "cell_type": "code",
   "execution_count": 13,
   "id": "b93b3b30",
   "metadata": {},
   "outputs": [
    {
     "data": {
      "text/plain": [
       "19    10.0\n",
       "20    10.0\n",
       "21    11.0\n",
       "22    11.0\n",
       "23    12.0\n",
       "      ... \n",
       "86    43.0\n",
       "87    43.0\n",
       "88    43.0\n",
       "89    44.0\n",
       "90    47.0\n",
       "Name: special equipment, Length: 72, dtype: float64"
      ]
     },
     "execution_count": 13,
     "metadata": {},
     "output_type": "execute_result"
    }
   ],
   "source": [
    "df_equipment.loc[df_equipment['special equipment'].notnull(), 'special equipment']"
   ]
  },
  {
   "cell_type": "code",
   "execution_count": 14,
   "id": "df2943cd",
   "metadata": {},
   "outputs": [
    {
     "data": {
      "text/plain": [
       "29.444444444444443"
      ]
     },
     "execution_count": 14,
     "metadata": {},
     "output_type": "execute_result"
    }
   ],
   "source": [
    "special_mean = df_equipment['special equipment'].mean()\n",
    "special_mean"
   ]
  },
  {
   "cell_type": "code",
   "execution_count": 15,
   "id": "eb6af43b",
   "metadata": {},
   "outputs": [],
   "source": [
    "df_equipment['special equipment'].fillna(value=special_mean, inplace=True)"
   ]
  },
  {
   "cell_type": "markdown",
   "id": "a28e5b74",
   "metadata": {},
   "source": [
    "<a name='mobile-srbm'></a>\n",
    "## Changing NaN value in 'mobile SRBM system' column with Mode value"
   ]
  },
  {
   "cell_type": "code",
   "execution_count": 16,
   "id": "b1a18c93",
   "metadata": {},
   "outputs": [
    {
     "data": {
      "text/plain": [
       "29    2.0\n",
       "30    4.0\n",
       "31    4.0\n",
       "32    4.0\n",
       "33    4.0\n",
       "34    4.0\n",
       "35    4.0\n",
       "36    4.0\n",
       "37    4.0\n",
       "38    4.0\n",
       "39    4.0\n",
       "40    4.0\n",
       "41    4.0\n",
       "42    4.0\n",
       "43    4.0\n",
       "44    4.0\n",
       "45    4.0\n",
       "46    4.0\n",
       "47    4.0\n",
       "48    4.0\n",
       "49    4.0\n",
       "50    4.0\n",
       "51    4.0\n",
       "52    4.0\n",
       "53    4.0\n",
       "54    4.0\n",
       "55    4.0\n",
       "56    4.0\n",
       "57    4.0\n",
       "58    4.0\n",
       "59    4.0\n",
       "60    4.0\n",
       "61    4.0\n",
       "62    4.0\n",
       "63    4.0\n",
       "64    4.0\n",
       "Name: mobile SRBM system, dtype: float64"
      ]
     },
     "execution_count": 16,
     "metadata": {},
     "output_type": "execute_result"
    }
   ],
   "source": [
    "df_equipment.loc[df_equipment['mobile SRBM system'].notnull(), 'mobile SRBM system']"
   ]
  },
  {
   "cell_type": "code",
   "execution_count": 17,
   "id": "66c1a20f",
   "metadata": {},
   "outputs": [
    {
     "data": {
      "text/plain": [
       "35"
      ]
     },
     "execution_count": 17,
     "metadata": {},
     "output_type": "execute_result"
    }
   ],
   "source": [
    "df_equipment.loc[df_equipment['mobile SRBM system'] == 4, 'mobile SRBM system'].count()"
   ]
  },
  {
   "cell_type": "code",
   "execution_count": 18,
   "id": "7f09af68",
   "metadata": {},
   "outputs": [
    {
     "data": {
      "text/plain": [
       "1"
      ]
     },
     "execution_count": 18,
     "metadata": {},
     "output_type": "execute_result"
    }
   ],
   "source": [
    "df_equipment.loc[df_equipment['mobile SRBM system'] == 2, 'mobile SRBM system'].count()"
   ]
  },
  {
   "cell_type": "code",
   "execution_count": 19,
   "id": "022f2122",
   "metadata": {},
   "outputs": [
    {
     "data": {
      "text/plain": [
       "4.0"
      ]
     },
     "execution_count": 19,
     "metadata": {},
     "output_type": "execute_result"
    }
   ],
   "source": [
    "mobile_mode = stat.mode(df_equipment[\"mobile SRBM system\"])\n",
    "mobile_mode"
   ]
  },
  {
   "cell_type": "code",
   "execution_count": 20,
   "id": "ef675caa",
   "metadata": {},
   "outputs": [],
   "source": [
    "df_equipment[\"mobile SRBM system\"].fillna(value=mobile_mode, inplace=True)"
   ]
  },
  {
   "cell_type": "markdown",
   "id": "c334db36",
   "metadata": {},
   "source": [
    "<a name='vehicles'></a>\n",
    "## Changing NaN value in 'vehicles and fuel tanks' column with Median value"
   ]
  },
  {
   "cell_type": "code",
   "execution_count": 21,
   "id": "efe642f5",
   "metadata": {},
   "outputs": [
    {
     "data": {
      "text/plain": [
       "65    1796.0\n",
       "66    1824.0\n",
       "67    1843.0\n",
       "68    1867.0\n",
       "69    1907.0\n",
       "70    1926.0\n",
       "71    1934.0\n",
       "72    1961.0\n",
       "73    1970.0\n",
       "74    1980.0\n",
       "75    1997.0\n",
       "76    2019.0\n",
       "77    2042.0\n",
       "78    2059.0\n",
       "79    2087.0\n",
       "80    2101.0\n",
       "81    2109.0\n",
       "82    2137.0\n",
       "83    2157.0\n",
       "84    2162.0\n",
       "85    2178.0\n",
       "86    2194.0\n",
       "87    2206.0\n",
       "88    2213.0\n",
       "89    2217.0\n",
       "90    2225.0\n",
       "Name: vehicles and fuel tanks, dtype: float64"
      ]
     },
     "execution_count": 21,
     "metadata": {},
     "output_type": "execute_result"
    }
   ],
   "source": [
    "df_equipment.loc[df_equipment['vehicles and fuel tanks'].notnull(), 'vehicles and fuel tanks']"
   ]
  },
  {
   "cell_type": "code",
   "execution_count": 22,
   "id": "ac22af73",
   "metadata": {},
   "outputs": [
    {
     "data": {
      "text/plain": [
       "2050.5"
      ]
     },
     "execution_count": 22,
     "metadata": {},
     "output_type": "execute_result"
    }
   ],
   "source": [
    "vehicle_med = df_equipment['vehicles and fuel tanks'].median()\n",
    "vehicle_med "
   ]
  },
  {
   "cell_type": "code",
   "execution_count": 23,
   "id": "7ff3ff41",
   "metadata": {},
   "outputs": [],
   "source": [
    "df_equipment['vehicles and fuel tanks'].fillna(value=vehicle_med, inplace=True)"
   ]
  },
  {
   "cell_type": "markdown",
   "id": "394784d5",
   "metadata": {},
   "source": [
    "<a name='cruise-missiles'></a>\n",
    "## Changing NaN value in 'cruise missiles' column with Mean value"
   ]
  },
  {
   "cell_type": "code",
   "execution_count": 24,
   "id": "bf9930ed",
   "metadata": {},
   "outputs": [
    {
     "data": {
      "text/plain": [
       "65     84.0\n",
       "66     84.0\n",
       "67     84.0\n",
       "68     87.0\n",
       "69     89.0\n",
       "70     90.0\n",
       "71     90.0\n",
       "72     92.0\n",
       "73     94.0\n",
       "74     94.0\n",
       "75     94.0\n",
       "76     94.0\n",
       "77     95.0\n",
       "78     95.0\n",
       "79     95.0\n",
       "80     97.0\n",
       "81     97.0\n",
       "82    102.0\n",
       "83    103.0\n",
       "84    103.0\n",
       "85    104.0\n",
       "86    107.0\n",
       "87    110.0\n",
       "88    112.0\n",
       "89    112.0\n",
       "90    114.0\n",
       "Name: cruise missiles, dtype: float64"
      ]
     },
     "execution_count": 24,
     "metadata": {},
     "output_type": "execute_result"
    }
   ],
   "source": [
    "df_equipment.loc[df_equipment['cruise missiles'].notnull(), 'cruise missiles']"
   ]
  },
  {
   "cell_type": "code",
   "execution_count": 25,
   "id": "54e89aba",
   "metadata": {},
   "outputs": [
    {
     "data": {
      "text/plain": [
       "97.0"
      ]
     },
     "execution_count": 25,
     "metadata": {},
     "output_type": "execute_result"
    }
   ],
   "source": [
    "cruise_mean = df_equipment['cruise missiles'].mean()\n",
    "cruise_mean"
   ]
  },
  {
   "cell_type": "code",
   "execution_count": 26,
   "id": "36d4bcb3",
   "metadata": {},
   "outputs": [],
   "source": [
    "df_equipment['cruise missiles'].fillna(value=cruise_mean, inplace=True)"
   ]
  },
  {
   "cell_type": "markdown",
   "id": "e8281262",
   "metadata": {},
   "source": [
    "<a name='loss-personnel'></a>\n",
    "### Russia Losses Personnel Section"
   ]
  },
  {
   "cell_type": "markdown",
   "id": "556eb0ea",
   "metadata": {},
   "source": [
    "<a name='drop-personnel_asterisk'></a>\n",
    "## Dropping personnel* Column"
   ]
  },
  {
   "cell_type": "code",
   "execution_count": 27,
   "id": "3fc34975",
   "metadata": {},
   "outputs": [],
   "source": [
    "df_personnel.drop(labels=['personnel*', 'day'], axis=1, inplace=True)"
   ]
  },
  {
   "cell_type": "markdown",
   "id": "4ae86acb",
   "metadata": {},
   "source": [
    "<a name='merge'></a>\n",
    "## Merge Both Datasets"
   ]
  },
  {
   "cell_type": "code",
   "execution_count": 28,
   "id": "07303162",
   "metadata": {},
   "outputs": [],
   "source": [
    "df_losses = df_equipment.merge(df_personnel, how='inner', on='date')"
   ]
  },
  {
   "cell_type": "code",
   "execution_count": 29,
   "id": "c4095ac6",
   "metadata": {},
   "outputs": [
    {
     "data": {
      "text/html": [
       "<div>\n",
       "<style scoped>\n",
       "    .dataframe tbody tr th:only-of-type {\n",
       "        vertical-align: middle;\n",
       "    }\n",
       "\n",
       "    .dataframe tbody tr th {\n",
       "        vertical-align: top;\n",
       "    }\n",
       "\n",
       "    .dataframe thead th {\n",
       "        text-align: right;\n",
       "    }\n",
       "</style>\n",
       "<table border=\"1\" class=\"dataframe\">\n",
       "  <thead>\n",
       "    <tr style=\"text-align: right;\">\n",
       "      <th></th>\n",
       "      <th>date</th>\n",
       "      <th>day</th>\n",
       "      <th>aircraft</th>\n",
       "      <th>helicopter</th>\n",
       "      <th>tank</th>\n",
       "      <th>APC</th>\n",
       "      <th>field artillery</th>\n",
       "      <th>MRL</th>\n",
       "      <th>military auto</th>\n",
       "      <th>fuel tank</th>\n",
       "      <th>...</th>\n",
       "      <th>naval ship</th>\n",
       "      <th>anti-aircraft warfare</th>\n",
       "      <th>special equipment</th>\n",
       "      <th>mobile SRBM system</th>\n",
       "      <th>vehicles and fuel tanks</th>\n",
       "      <th>cruise missiles</th>\n",
       "      <th>personnel</th>\n",
       "      <th>POW</th>\n",
       "      <th>inc_personnel_loss</th>\n",
       "      <th>week</th>\n",
       "    </tr>\n",
       "  </thead>\n",
       "  <tbody>\n",
       "    <tr>\n",
       "      <th>0</th>\n",
       "      <td>2022-02-25</td>\n",
       "      <td>2</td>\n",
       "      <td>10</td>\n",
       "      <td>7</td>\n",
       "      <td>80</td>\n",
       "      <td>516</td>\n",
       "      <td>49</td>\n",
       "      <td>4</td>\n",
       "      <td>100.0</td>\n",
       "      <td>60.000000</td>\n",
       "      <td>...</td>\n",
       "      <td>2</td>\n",
       "      <td>0</td>\n",
       "      <td>29.444444</td>\n",
       "      <td>4.0</td>\n",
       "      <td>2050.5</td>\n",
       "      <td>97.0</td>\n",
       "      <td>2800</td>\n",
       "      <td>0</td>\n",
       "      <td>2800.0</td>\n",
       "      <td>0</td>\n",
       "    </tr>\n",
       "    <tr>\n",
       "      <th>1</th>\n",
       "      <td>2022-02-26</td>\n",
       "      <td>3</td>\n",
       "      <td>27</td>\n",
       "      <td>26</td>\n",
       "      <td>146</td>\n",
       "      <td>706</td>\n",
       "      <td>49</td>\n",
       "      <td>4</td>\n",
       "      <td>130.0</td>\n",
       "      <td>60.000000</td>\n",
       "      <td>...</td>\n",
       "      <td>2</td>\n",
       "      <td>0</td>\n",
       "      <td>29.444444</td>\n",
       "      <td>4.0</td>\n",
       "      <td>2050.5</td>\n",
       "      <td>97.0</td>\n",
       "      <td>4300</td>\n",
       "      <td>0</td>\n",
       "      <td>1500.0</td>\n",
       "      <td>0</td>\n",
       "    </tr>\n",
       "    <tr>\n",
       "      <th>2</th>\n",
       "      <td>2022-02-27</td>\n",
       "      <td>4</td>\n",
       "      <td>27</td>\n",
       "      <td>26</td>\n",
       "      <td>150</td>\n",
       "      <td>706</td>\n",
       "      <td>50</td>\n",
       "      <td>4</td>\n",
       "      <td>130.0</td>\n",
       "      <td>60.000000</td>\n",
       "      <td>...</td>\n",
       "      <td>2</td>\n",
       "      <td>0</td>\n",
       "      <td>29.444444</td>\n",
       "      <td>4.0</td>\n",
       "      <td>2050.5</td>\n",
       "      <td>97.0</td>\n",
       "      <td>4500</td>\n",
       "      <td>0</td>\n",
       "      <td>200.0</td>\n",
       "      <td>0</td>\n",
       "    </tr>\n",
       "    <tr>\n",
       "      <th>3</th>\n",
       "      <td>2022-02-28</td>\n",
       "      <td>5</td>\n",
       "      <td>29</td>\n",
       "      <td>29</td>\n",
       "      <td>150</td>\n",
       "      <td>816</td>\n",
       "      <td>74</td>\n",
       "      <td>21</td>\n",
       "      <td>291.0</td>\n",
       "      <td>60.000000</td>\n",
       "      <td>...</td>\n",
       "      <td>2</td>\n",
       "      <td>5</td>\n",
       "      <td>29.444444</td>\n",
       "      <td>4.0</td>\n",
       "      <td>2050.5</td>\n",
       "      <td>97.0</td>\n",
       "      <td>5300</td>\n",
       "      <td>0</td>\n",
       "      <td>800.0</td>\n",
       "      <td>0</td>\n",
       "    </tr>\n",
       "    <tr>\n",
       "      <th>4</th>\n",
       "      <td>2022-03-01</td>\n",
       "      <td>6</td>\n",
       "      <td>29</td>\n",
       "      <td>29</td>\n",
       "      <td>198</td>\n",
       "      <td>846</td>\n",
       "      <td>77</td>\n",
       "      <td>24</td>\n",
       "      <td>305.0</td>\n",
       "      <td>60.000000</td>\n",
       "      <td>...</td>\n",
       "      <td>2</td>\n",
       "      <td>7</td>\n",
       "      <td>29.444444</td>\n",
       "      <td>4.0</td>\n",
       "      <td>2050.5</td>\n",
       "      <td>97.0</td>\n",
       "      <td>5710</td>\n",
       "      <td>200</td>\n",
       "      <td>410.0</td>\n",
       "      <td>0</td>\n",
       "    </tr>\n",
       "    <tr>\n",
       "      <th>...</th>\n",
       "      <td>...</td>\n",
       "      <td>...</td>\n",
       "      <td>...</td>\n",
       "      <td>...</td>\n",
       "      <td>...</td>\n",
       "      <td>...</td>\n",
       "      <td>...</td>\n",
       "      <td>...</td>\n",
       "      <td>...</td>\n",
       "      <td>...</td>\n",
       "      <td>...</td>\n",
       "      <td>...</td>\n",
       "      <td>...</td>\n",
       "      <td>...</td>\n",
       "      <td>...</td>\n",
       "      <td>...</td>\n",
       "      <td>...</td>\n",
       "      <td>...</td>\n",
       "      <td>...</td>\n",
       "      <td>...</td>\n",
       "      <td>...</td>\n",
       "    </tr>\n",
       "    <tr>\n",
       "      <th>86</th>\n",
       "      <td>2022-05-22</td>\n",
       "      <td>88</td>\n",
       "      <td>204</td>\n",
       "      <td>170</td>\n",
       "      <td>1285</td>\n",
       "      <td>3141</td>\n",
       "      <td>599</td>\n",
       "      <td>201</td>\n",
       "      <td>1178.0</td>\n",
       "      <td>69.323077</td>\n",
       "      <td>...</td>\n",
       "      <td>13</td>\n",
       "      <td>93</td>\n",
       "      <td>43.000000</td>\n",
       "      <td>4.0</td>\n",
       "      <td>2194.0</td>\n",
       "      <td>107.0</td>\n",
       "      <td>29050</td>\n",
       "      <td>498</td>\n",
       "      <td>200.0</td>\n",
       "      <td>12</td>\n",
       "    </tr>\n",
       "    <tr>\n",
       "      <th>87</th>\n",
       "      <td>2022-05-23</td>\n",
       "      <td>89</td>\n",
       "      <td>204</td>\n",
       "      <td>170</td>\n",
       "      <td>1293</td>\n",
       "      <td>3166</td>\n",
       "      <td>604</td>\n",
       "      <td>201</td>\n",
       "      <td>1178.0</td>\n",
       "      <td>69.323077</td>\n",
       "      <td>...</td>\n",
       "      <td>13</td>\n",
       "      <td>93</td>\n",
       "      <td>43.000000</td>\n",
       "      <td>4.0</td>\n",
       "      <td>2206.0</td>\n",
       "      <td>110.0</td>\n",
       "      <td>29200</td>\n",
       "      <td>498</td>\n",
       "      <td>150.0</td>\n",
       "      <td>12</td>\n",
       "    </tr>\n",
       "    <tr>\n",
       "      <th>88</th>\n",
       "      <td>2022-05-24</td>\n",
       "      <td>90</td>\n",
       "      <td>205</td>\n",
       "      <td>170</td>\n",
       "      <td>1302</td>\n",
       "      <td>3194</td>\n",
       "      <td>606</td>\n",
       "      <td>201</td>\n",
       "      <td>1178.0</td>\n",
       "      <td>69.323077</td>\n",
       "      <td>...</td>\n",
       "      <td>13</td>\n",
       "      <td>93</td>\n",
       "      <td>43.000000</td>\n",
       "      <td>4.0</td>\n",
       "      <td>2213.0</td>\n",
       "      <td>112.0</td>\n",
       "      <td>29350</td>\n",
       "      <td>498</td>\n",
       "      <td>150.0</td>\n",
       "      <td>12</td>\n",
       "    </tr>\n",
       "    <tr>\n",
       "      <th>89</th>\n",
       "      <td>2022-05-25</td>\n",
       "      <td>91</td>\n",
       "      <td>206</td>\n",
       "      <td>170</td>\n",
       "      <td>1305</td>\n",
       "      <td>3213</td>\n",
       "      <td>606</td>\n",
       "      <td>201</td>\n",
       "      <td>1178.0</td>\n",
       "      <td>69.323077</td>\n",
       "      <td>...</td>\n",
       "      <td>13</td>\n",
       "      <td>93</td>\n",
       "      <td>44.000000</td>\n",
       "      <td>4.0</td>\n",
       "      <td>2217.0</td>\n",
       "      <td>112.0</td>\n",
       "      <td>29450</td>\n",
       "      <td>498</td>\n",
       "      <td>100.0</td>\n",
       "      <td>13</td>\n",
       "    </tr>\n",
       "    <tr>\n",
       "      <th>90</th>\n",
       "      <td>2022-05-26</td>\n",
       "      <td>92</td>\n",
       "      <td>206</td>\n",
       "      <td>170</td>\n",
       "      <td>1315</td>\n",
       "      <td>3235</td>\n",
       "      <td>617</td>\n",
       "      <td>201</td>\n",
       "      <td>1178.0</td>\n",
       "      <td>69.323077</td>\n",
       "      <td>...</td>\n",
       "      <td>13</td>\n",
       "      <td>93</td>\n",
       "      <td>47.000000</td>\n",
       "      <td>4.0</td>\n",
       "      <td>2225.0</td>\n",
       "      <td>114.0</td>\n",
       "      <td>29600</td>\n",
       "      <td>498</td>\n",
       "      <td>150.0</td>\n",
       "      <td>13</td>\n",
       "    </tr>\n",
       "  </tbody>\n",
       "</table>\n",
       "<p>91 rows × 21 columns</p>\n",
       "</div>"
      ],
      "text/plain": [
       "         date  day  aircraft  helicopter  tank   APC  field artillery  MRL  \\\n",
       "0  2022-02-25    2        10           7    80   516               49    4   \n",
       "1  2022-02-26    3        27          26   146   706               49    4   \n",
       "2  2022-02-27    4        27          26   150   706               50    4   \n",
       "3  2022-02-28    5        29          29   150   816               74   21   \n",
       "4  2022-03-01    6        29          29   198   846               77   24   \n",
       "..        ...  ...       ...         ...   ...   ...              ...  ...   \n",
       "86 2022-05-22   88       204         170  1285  3141              599  201   \n",
       "87 2022-05-23   89       204         170  1293  3166              604  201   \n",
       "88 2022-05-24   90       205         170  1302  3194              606  201   \n",
       "89 2022-05-25   91       206         170  1305  3213              606  201   \n",
       "90 2022-05-26   92       206         170  1315  3235              617  201   \n",
       "\n",
       "    military auto  fuel tank  ...  naval ship  anti-aircraft warfare  \\\n",
       "0           100.0  60.000000  ...           2                      0   \n",
       "1           130.0  60.000000  ...           2                      0   \n",
       "2           130.0  60.000000  ...           2                      0   \n",
       "3           291.0  60.000000  ...           2                      5   \n",
       "4           305.0  60.000000  ...           2                      7   \n",
       "..            ...        ...  ...         ...                    ...   \n",
       "86         1178.0  69.323077  ...          13                     93   \n",
       "87         1178.0  69.323077  ...          13                     93   \n",
       "88         1178.0  69.323077  ...          13                     93   \n",
       "89         1178.0  69.323077  ...          13                     93   \n",
       "90         1178.0  69.323077  ...          13                     93   \n",
       "\n",
       "    special equipment  mobile SRBM system  vehicles and fuel tanks  \\\n",
       "0           29.444444                 4.0                   2050.5   \n",
       "1           29.444444                 4.0                   2050.5   \n",
       "2           29.444444                 4.0                   2050.5   \n",
       "3           29.444444                 4.0                   2050.5   \n",
       "4           29.444444                 4.0                   2050.5   \n",
       "..                ...                 ...                      ...   \n",
       "86          43.000000                 4.0                   2194.0   \n",
       "87          43.000000                 4.0                   2206.0   \n",
       "88          43.000000                 4.0                   2213.0   \n",
       "89          44.000000                 4.0                   2217.0   \n",
       "90          47.000000                 4.0                   2225.0   \n",
       "\n",
       "    cruise missiles  personnel  POW  inc_personnel_loss  week  \n",
       "0              97.0       2800    0              2800.0     0  \n",
       "1              97.0       4300    0              1500.0     0  \n",
       "2              97.0       4500    0               200.0     0  \n",
       "3              97.0       5300    0               800.0     0  \n",
       "4              97.0       5710  200               410.0     0  \n",
       "..              ...        ...  ...                 ...   ...  \n",
       "86            107.0      29050  498               200.0    12  \n",
       "87            110.0      29200  498               150.0    12  \n",
       "88            112.0      29350  498               150.0    12  \n",
       "89            112.0      29450  498               100.0    13  \n",
       "90            114.0      29600  498               150.0    13  \n",
       "\n",
       "[91 rows x 21 columns]"
      ]
     },
     "execution_count": 29,
     "metadata": {},
     "output_type": "execute_result"
    }
   ],
   "source": [
    "# The personnel losses are cumulative, so we're adding a column with daily/incremental personnel losses\n",
    "df_losses['inc_personnel_loss'] = df_losses['personnel'].diff(periods=1)\n",
    "\n",
    "# The day 1 is missing, so we should set the day 1\n",
    "df_losses['inc_personnel_loss'] = df_losses['inc_personnel_loss'].replace(df_losses['inc_personnel_loss'][0], df_losses['personnel'][0])\n",
    "\n",
    "# Adding a weeks column\n",
    "df_losses['week'] = df_losses['day']//7\n",
    "\n",
    "# df_losses.to_csv('merged datasets.csv', index=False)\n",
    "\n",
    "df_losses"
   ]
  },
  {
   "cell_type": "markdown",
   "id": "7f9a9963",
   "metadata": {},
   "source": [
    "<a name='4'></a>\n",
    "# 4 - Data Visualization"
   ]
  },
  {
   "cell_type": "markdown",
   "id": "aa123d4f",
   "metadata": {},
   "source": [
    "<a name='vis-personnel_loss'></a>\n",
    "## Personnel Losses"
   ]
  },
  {
   "cell_type": "code",
   "execution_count": 30,
   "id": "ad4f3206",
   "metadata": {},
   "outputs": [
    {
     "data": {
      "text/plain": [
       "Text(0.5, 1.0, 'Cumulative Personnel Losses')"
      ]
     },
     "execution_count": 30,
     "metadata": {},
     "output_type": "execute_result"
    },
    {
     "data": {
      "image/png": "[encoded data removed]",
      "text/plain": [
       "<Figure size 1440x720 with 2 Axes>"
      ]
     },
     "metadata": {
      "needs_background": "light"
     },
     "output_type": "display_data"
    }
   ],
   "source": [
    "fig, axes = plt.subplots(1, 2, figsize=(20, 10))\n",
    "\n",
    "axes[0].plot(df_losses['date'], df_losses['inc_personnel_loss'], 'b.')\n",
    "axes[1].plot(df_losses['date'], df_losses['personnel'])\n",
    "\n",
    "for ax in axes:\n",
    "    ax.xaxis.set_minor_locator(mdates.DayLocator(bymonthday=[25], interval=1, tz=None))\n",
    "    ax.xaxis.set_major_locator(mdates.MonthLocator())\n",
    "    ax.grid(True)\n",
    "\n",
    "# Add trendline to personnel losses\n",
    "z = np.polyfit(mdates.date2num(df_losses['date']), df_losses['inc_personnel_loss'], 2)\n",
    "p = np.poly1d(z)\n",
    "axes[0].plot(mdates.date2num(df_losses['date']), p(mdates.date2num(df_losses['date'])))\n",
    "\n",
    "axes[0].set_title('Incremental Daily Personnel Losses', fontsize=16)\n",
    "axes[1].set_title('Cumulative Personnel Losses', fontsize=16)"
   ]
  },
  {
   "cell_type": "code",
   "execution_count": 31,
   "id": "65c32cf3",
   "metadata": {},
   "outputs": [
    {
     "data": {
      "text/plain": [
       "Text(0.5, 1.0, 'From the third week, personnel column are lacking of updates, \\n most personnel losses happened during the first days of the war.')"
      ]
     },
     "execution_count": 31,
     "metadata": {},
     "output_type": "execute_result"
    },
    {
     "data": {
      "image/png": "[encoded data removed]",
      "text/plain": [
       "<Figure size 720x444.96 with 2 Axes>"
      ]
     },
     "metadata": {
      "needs_background": "light"
     },
     "output_type": "display_data"
    }
   ],
   "source": [
    "fig, ax_candle_1 = plt.subplots(figsize=(10, 10*0.618))\n",
    "\n",
    "bp = sns.boxplot(data=df_losses, x='week', y='inc_personnel_loss', palette='crest', ax=ax_candle_1)\n",
    "ax_candle_2 = ax_candle_1.twinx()\n",
    "\n",
    "lp = sns.lineplot(data=df_losses, x='week', y='personnel', linewidth=3, ax=ax_candle_2)\n",
    "\n",
    "ax_candle_1.set(xlabel='Weeks since the start of the war', ylabel='Daily personnel losses')\n",
    "ax_candle_2.set(ylabel='')\n",
    "ax_candle_1.set_title('From the third week, personnel column are lacking of updates, \\n most personnel losses happened during the first days of the war.', fontsize=14)"
   ]
  },
  {
   "cell_type": "markdown",
   "id": "4e9e2509",
   "metadata": {},
   "source": [
    "<a name='vis-pow'></a>\n",
    "## POW (Prisoners-of-War)"
   ]
  },
  {
   "cell_type": "code",
   "execution_count": 32,
   "id": "c496f5f4",
   "metadata": {},
   "outputs": [
    {
     "data": {
      "image/png": "[encoded data removed]",
      "text/plain": [
       "<Figure size 720x444.96 with 1 Axes>"
      ]
     },
     "metadata": {
      "needs_background": "light"
     },
     "output_type": "display_data"
    }
   ],
   "source": [
    "fig, ax_pow = plt.subplots(figsize=(10, 10*0.618))\n",
    "\n",
    "plt.style.use('seaborn-darkgrid')\n",
    "\n",
    "ax_pow.fill_between(df_losses['week'], df_losses['POW'], color='skyblue', alpha=.3)\n",
    "ax_pow.plot(df_losses['week'], df_losses['POW'], color='skyblue')\n",
    "\n",
    "# Getting correlation with personnel losses\n",
    "corr, _ = pearsonr(df_losses['POW'], df_losses['personnel'])\n",
    "Pearsons_corr = 'Pearsons correlation: %.3f' % corr\n",
    "\n",
    "plt.title(f'The evolution of POWs (prisoners of war) behaves similarly \\n to personnel losses with a {Pearsons_corr} \\n as most POWs were captured in the first 2 weeks of the war', fontsize=14)\n",
    "plt.xlabel('Weeks since the war start', fontsize=16)\n",
    "plt.ylabel('POWs', fontsize=16)\n",
    "\n",
    "plt.show()"
   ]
  },
  {
   "cell_type": "markdown",
   "id": "f972504f",
   "metadata": {},
   "source": [
    "<a name='vis-eq'></a>\n",
    "## Equipment Losses"
   ]
  },
  {
   "cell_type": "code",
   "execution_count": 33,
   "id": "5689de7a",
   "metadata": {},
   "outputs": [
    {
     "data": {
      "image/png": "[encoded data removed]",
      "text/plain": [
       "<Figure size 720x576 with 1 Axes>"
      ]
     },
     "metadata": {},
     "output_type": "display_data"
    }
   ],
   "source": [
    "fig, ax_eq = plt.subplots(figsize=(10, 8))\n",
    "\n",
    "df_bar = df_losses.loc[:, ~df_losses.columns.isin(['date', 'day', 'week', 'personnel', 'POW', 'inc_personnel_loss', 'military auto', 'fuel tank', 'mobile SRBM system'])].sort_values(by=len(df_losses.index)-1, axis=1)\n",
    "\n",
    "x = df_bar.columns.values\n",
    "y = df_bar.tail(1).squeeze().values\n",
    "\n",
    "my_cmap = plt.get_cmap('copper')\n",
    "\n",
    "rescale = lambda y: (y - np.min(y)) / (np.max(y) - np.min(y))\n",
    "\n",
    "ax_eq.barh(x, y, align='center', alpha=.5, color=my_cmap(rescale(y)))\n",
    "ax_eq.set_title('Total Equipment Losses', fontsize=18)\n",
    "\n",
    "plt.show()"
   ]
  },
  {
   "cell_type": "markdown",
   "id": "96e4280f",
   "metadata": {},
   "source": [
    "<a name='vis-air'></a>\n",
    "## Air Equipment"
   ]
  },
  {
   "cell_type": "code",
   "execution_count": 34,
   "id": "46d1ab4c",
   "metadata": {},
   "outputs": [
    {
     "data": {
      "image/png": "[encoded data removed]",
      "text/plain": [
       "<Figure size 720x444.96 with 1 Axes>"
      ]
     },
     "metadata": {},
     "output_type": "display_data"
    }
   ],
   "source": [
    "fig, ax_air = plt.subplots(figsize=(10, 10*0.618))\n",
    "\n",
    "num = 0\n",
    "for column in df_losses[['aircraft', 'helicopter', 'drone', 'cruise missiles']]:\n",
    "    num += 1\n",
    "    plt.plot(df_losses['date'], df_losses[column], marker='', linewidth=1, alpha=.9, label=column)\n",
    "    \n",
    "plt.legend(loc=2, ncol=2, fontsize=14)\n",
    "\n",
    "plt.title('Air Equipment Losses', fontsize=18)\n",
    "plt.xlabel('Time')\n",
    "plt.ylabel('Losses')\n",
    "\n",
    "plt.show()"
   ]
  },
  {
   "cell_type": "markdown",
   "id": "5a3d16ed",
   "metadata": {},
   "source": [
    "<a name='vis-land'></a>\n",
    "## Artillery, AA and Support/Logistic Vehicle Losses (Land)"
   ]
  },
  {
   "cell_type": "code",
   "execution_count": 35,
   "id": "76cd3554",
   "metadata": {},
   "outputs": [
    {
     "data": {
      "image/png": "[encoded data removed]",
      "text/plain": [
       "<Figure size 720x444.96 with 1 Axes>"
      ]
     },
     "metadata": {},
     "output_type": "display_data"
    }
   ],
   "source": [
    "fig, ax_land = plt.subplots(figsize=(10, 10*0.618))\n",
    "\n",
    "num = 0\n",
    "for column in df_losses[['field artillery', 'MRL', 'military auto', 'fuel tank', 'mobile SRBM system', 'vehicles and fuel tanks']]:\n",
    "    num += 1\n",
    "    plt.plot(df_losses['date'], df_losses[column], marker='', linewidth=1, alpha=.9, label=column)\n",
    "\n",
    "plt.legend(loc=2, ncol=2, fontsize=12)\n",
    "\n",
    "plt.title('Artillery, AA and Support/Logistics Vehicles Losses', fontsize=18)\n",
    "plt.xlabel('Time')\n",
    "plt.ylabel('Losses')\n",
    "\n",
    "plt.show()"
   ]
  },
  {
   "cell_type": "markdown",
   "id": "aa650409",
   "metadata": {},
   "source": [
    "<a name='vis-naval'></a>\n",
    "## Naval (Sea)"
   ]
  },
  {
   "cell_type": "code",
   "execution_count": 36,
   "id": "4a1c6c97",
   "metadata": {},
   "outputs": [
    {
     "data": {
      "image/png": "[encoded data removed]",
      "text/plain": [
       "<Figure size 720x444.96 with 1 Axes>"
      ]
     },
     "metadata": {},
     "output_type": "display_data"
    }
   ],
   "source": [
    "fig, ax_sea = plt.subplots(figsize=(10, 10*0.618))\n",
    "\n",
    "num = 0\n",
    "for column in df_losses[['naval ship']]:\n",
    "    num += 1\n",
    "    plt.plot(df_losses['date'], df_losses[column], marker='', linewidth=1, alpha=.9, label=column)\n",
    "    \n",
    "plt.legend(loc=2, ncol=2, fontsize=14)\n",
    "\n",
    "plt.title('Naval Losses', fontsize=18)\n",
    "plt.xlabel('Time')\n",
    "plt.ylabel('Losses')\n",
    "\n",
    "plt.show()"
   ]
  },
  {
   "cell_type": "markdown",
   "id": "65f37fe5",
   "metadata": {},
   "source": [
    "<a name='vis-brief'></a>\n",
    "## Visual Comparison Between Land, Air, and Naval Losses"
   ]
  },
  {
   "cell_type": "code",
   "execution_count": 37,
   "id": "afde1ecd",
   "metadata": {},
   "outputs": [
    {
     "data": {
      "image/png": "[encoded data removed]",
      "text/plain": [
       "<Figure size 720x444.96 with 1 Axes>"
      ]
     },
     "metadata": {},
     "output_type": "display_data"
    }
   ],
   "source": [
    "fig, ax_brief = plt.subplots(figsize=(10, 10*0.618))\n",
    "\n",
    "air_losses = df_losses[['aircraft', 'helicopter', 'drone', 'cruise missiles']].sum(axis=1)\n",
    "land_armoured_losses = df_losses[['tank', 'APC']].sum(axis=1)\n",
    "land_support_losses = df_losses[['field artillery', 'MRL', 'military auto', 'fuel tank', 'mobile SRBM system', 'vehicles and fuel tanks']].sum(axis=1)\n",
    "sea_losses = df_losses[['naval ship']].sum(axis=1)\n",
    "\n",
    "Casualty_dict = {\n",
    "    'Armoured Vehicles': land_armoured_losses.tail(1).values,\n",
    "    'Artillery, AA and Support/Logistics vehicles': land_support_losses.tail(1).values,\n",
    "    'Air': air_losses.tail(1).values,\n",
    "    'Naval': sea_losses.tail(1).values\n",
    "}\n",
    "colors = ['forestGreen', 'limegreen', 'tomato', 'navy']\n",
    "\n",
    "squarify.plot(sizes=list(Casualty_dict.values()), label=list(Casualty_dict.keys()), color=colors, alpha=.7, text_kwargs={'fontsize': 15})\n",
    "plt.axis('off')\n",
    "plt.title('Land equipment (Support and Armoured) makes out most of the \\n total equipment losses compared from other equipments', fontsize=16)\n",
    "\n",
    "plt.show()"
   ]
  },
  {
   "cell_type": "markdown",
   "id": "21be8690",
   "metadata": {},
   "source": [
    "<a name='corr-matrix'></a>\n",
    "## Correlation Matrix"
   ]
  },
  {
   "cell_type": "code",
   "execution_count": 38,
   "id": "23b74543",
   "metadata": {},
   "outputs": [
    {
     "data": {
      "image/png": "[encoded data removed]",
      "text/plain": [
       "<Figure size 720x444.96 with 2 Axes>"
      ]
     },
     "metadata": {},
     "output_type": "display_data"
    }
   ],
   "source": [
    "fig, ax_corrMatrix = plt.subplots(figsize=(10, 10*0.618))\n",
    "\n",
    "df_corrMatrix = df_losses.loc[:, ~df_losses.columns.isin(['date', 'day', 'week', 'inc_personnel_loss', 'military auto', 'fuel tank', 'mobile SRBM system', 'cruise missiles', 'vehicles and fuel tanks'])].sort_values(by=len(df_losses.index)-1, axis=1)\n",
    "\n",
    "corrMatrix = df_corrMatrix.corr()\n",
    "sns.heatmap(corrMatrix, annot=True, cmap='Reds')\n",
    "\n",
    "plt.title('Correlation Matrix', fontsize=16)\n",
    "\n",
    "plt.show()"
   ]
  },
  {
   "cell_type": "markdown",
   "id": "e3a5e748",
   "metadata": {},
   "source": [
    "<a name='5'></a>\n",
    "# 5 - Genetic Algorithm Implementation"
   ]
  },
  {
   "cell_type": "markdown",
   "id": "034af317",
   "metadata": {},
   "source": [
    "<a name='split-data'></a>\n",
    "## Splitting the Data"
   ]
  },
  {
   "cell_type": "code",
   "execution_count": 39,
   "id": "92f45629",
   "metadata": {},
   "outputs": [],
   "source": [
    "X_train, X_test, y_train, y_test = train_test_split(df_losses.personnel, df_losses.inc_personnel_loss, test_size=0.2)"
   ]
  },
  {
   "cell_type": "markdown",
   "id": "e8a77779",
   "metadata": {},
   "source": [
    "<a name='ga'></a>\n",
    "## Genetic Algorithm Process"
   ]
  },
  {
   "cell_type": "code",
   "execution_count": 40,
   "id": "91ff7f61",
   "metadata": {},
   "outputs": [],
   "source": [
    "function_inputs = X_train\n",
    "desired_output = 44\n",
    "\n",
    "def fitness(solution, solution_idx):\n",
    "    out = np.sum(solution * function_inputs)\n",
    "    fitness = 1.0 / np.abs(out - desired_output)\n",
    "    return fitness\n",
    "\n",
    "# Init parameters\n",
    "fitness_fn = fitness\n",
    "\n",
    "num_gens = 50\n",
    "num_parents_mating = 4\n",
    "\n",
    "solution_per_pops = 8\n",
    "num_genes = len(function_inputs)\n",
    "\n",
    "range_low = min(function_inputs)\n",
    "range_high = max(function_inputs)\n",
    "\n",
    "parent_selection_type = 'sss'\n",
    "keep_parents = 1\n",
    "\n",
    "crossover_type = 'single_point'\n",
    "\n",
    "mutation_type = 'random'\n",
    "mutation_percent_genes = 10\n",
    "\n",
    "# Instantiate pygad.GA\n",
    "ga_instance = pygad.GA(num_generations=num_gens,\n",
    "                       num_parents_mating=num_parents_mating,\n",
    "                       fitness_func=fitness_fn,\n",
    "                       sol_per_pop=solution_per_pops,\n",
    "                       num_genes=num_genes,\n",
    "                       init_range_low=range_low,\n",
    "                       init_range_high=range_high,\n",
    "                       parent_selection_type=parent_selection_type,\n",
    "                       keep_parents=keep_parents,\n",
    "                       crossover_type=crossover_type,\n",
    "                       mutation_type=mutation_type,\n",
    "                       mutation_percent_genes=mutation_percent_genes\n",
    "                      )\n",
    "\n",
    "ga_instance.run()"
   ]
  },
  {
   "cell_type": "code",
   "execution_count": 41,
   "id": "345a1ff8",
   "metadata": {},
   "outputs": [
    {
     "name": "stdout",
     "output_type": "stream",
     "text": [
      "Parameters of the best solution:\n",
      " [15476.43138803 13931.63272589 25232.1736384  23269.60103606\n",
      " 25971.39219256 27235.17983074  3343.54787652  2886.55129128\n",
      "  6655.07032437 14263.81733832  8746.20343394 13179.25352572\n",
      "  2982.81903236  4190.53559827  3451.03456367 15304.60561177\n",
      "  9478.88334607 13902.51680004  8649.22096589 15626.95307009\n",
      "  9810.49478182 14736.40479735 26868.38288316 15220.72642548\n",
      "  5403.00903708 24048.65653961 14897.89826203 22857.12692122\n",
      " 22172.07176243 13255.10269368  9949.69794956 13377.50510206\n",
      " 11585.64053584  3173.62758074 11693.45168081 21767.23200311\n",
      " 14713.57903602  4002.89875016 21491.31816275 15530.8623974\n",
      " 10093.96872737 15749.67981544 12241.27040529 26506.79097265\n",
      "  7599.57625904  5278.05872621 21897.55506817 26097.49346887\n",
      "  3489.99916082  4017.34740602  5763.57536261 10432.08036476\n",
      " 22565.89421172 17345.49264623  5697.69810951 13384.88176658\n",
      " 12896.1207562  24925.25322578 15261.80143831 29111.89358613\n",
      "  9208.46915432 11540.35723499 11711.22879401 26117.12120386\n",
      "  8276.38013784  7699.97319532  8014.1603786  21751.13245945\n",
      " 24492.21197134 10680.45126796 29252.4931831  12593.63587232]\n",
      "\n",
      "\n",
      "Fitness value of the best solution:\n",
      " 5.289394540860259e-11\n",
      "\n",
      "\n",
      "Predicted output based on the best solution 18905755556.754047\n"
     ]
    }
   ],
   "source": [
    "solution, solution_fitness, solution_idx = ga_instance.best_solution()\n",
    "\n",
    "print(f'Parameters of the best solution:\\n {solution}\\n\\n')\n",
    "print(f'Fitness value of the best solution:\\n {solution_fitness}\\n\\n')\n",
    "\n",
    "prediction = np.sum(np.array(function_inputs) * solution)\n",
    "print(f'Predicted output based on the best solution {prediction}')"
   ]
  },
  {
   "cell_type": "markdown",
   "id": "f73f2c50",
   "metadata": {},
   "source": [
    "<a name='6'></a>\n",
    "# 6 - Building the Model\n",
    "\n",
    "> We will make a prediction of X: 'personnel' and y: 'inc_personnel_loss' to predict the incremental personnel loss"
   ]
  },
  {
   "cell_type": "markdown",
   "id": "a0596b22",
   "metadata": {},
   "source": [
    "<a name='lin-regr'></a>\n",
    "## Linear Regression"
   ]
  },
  {
   "cell_type": "code",
   "execution_count": 42,
   "id": "c9317a5a",
   "metadata": {},
   "outputs": [],
   "source": [
    "X_train_reshape = np.array(X_train).reshape(-1, 1)\n",
    "X_test_reshape = np.array(X_test).reshape(-1, 1)\n",
    "X_ga_reshape = np.array(function_inputs).reshape(-1, 1)"
   ]
  },
  {
   "cell_type": "code",
   "execution_count": 43,
   "id": "f01be9b1",
   "metadata": {},
   "outputs": [
    {
     "name": "stdout",
     "output_type": "stream",
     "text": [
      "Coefficients: [-0.03475166]\n",
      "Root mean squared error: 288.095\n",
      "Coefficient of determination: -1.802\n",
      "Score: 0.188\n",
      "Intercept: 998.692\n"
     ]
    },
    {
     "data": {
      "image/png": "[encoded data removed]",
      "text/plain": [
       "<Figure size 432x288 with 1 Axes>"
      ]
     },
     "metadata": {},
     "output_type": "display_data"
    }
   ],
   "source": [
    "lin_regr = LinearRegression()\n",
    "lin_regr.fit(X_train_reshape, y_train)\n",
    "\n",
    "preds = lin_regr.predict(X_test_reshape)\n",
    "\n",
    "print(f'Coefficients: {lin_regr.coef_}')\n",
    "print('Root mean squared error: %.3f' % np.sqrt(mean_squared_error(y_test, preds)))\n",
    "print('Coefficient of determination: %.3f' % r2_score(y_test, preds))\n",
    "print('Score: %.3f' % lin_regr.score(X_train_reshape, y_train))\n",
    "print('Intercept: %.3f' % lin_regr.intercept_)\n",
    "\n",
    "plt.scatter(X_test_reshape, y_test, color='black')\n",
    "plt.plot(X_test_reshape, preds, color='blue', linewidth=3)\n",
    "plt.title('Linear Regression', fontsize=16)\n",
    "plt.xlabel('Personnel', fontsize=16)\n",
    "plt.ylabel('Incremental Personnel Loss', fontsize=14)\n",
    "\n",
    "plt.xticks(())\n",
    "plt.yticks(())\n",
    "\n",
    "plt.show()"
   ]
  },
  {
   "cell_type": "code",
   "execution_count": 44,
   "id": "09d455b3",
   "metadata": {},
   "outputs": [],
   "source": [
    "residuals = preds - y_test"
   ]
  },
  {
   "cell_type": "code",
   "execution_count": 45,
   "id": "c68ebc67",
   "metadata": {},
   "outputs": [
    {
     "data": {
      "text/plain": [
       "(array([1., 6., 1., 1., 1., 6., 0., 1., 0., 2.]),\n",
       " array([-384.77939056, -282.0704503 , -179.36151004,  -76.65256978,\n",
       "          26.05637049,  128.76531075,  231.47425101,  334.18319128,\n",
       "         436.89213154,  539.6010718 ,  642.31001206]),\n",
       " <BarContainer object of 10 artists>)"
      ]
     },
     "execution_count": 45,
     "metadata": {},
     "output_type": "execute_result"
    },
    {
     "data": {
      "image/png": "[encoded data removed]",
      "text/plain": [
       "<Figure size 432x288 with 1 Axes>"
      ]
     },
     "metadata": {},
     "output_type": "display_data"
    }
   ],
   "source": [
    "plt.hist(residuals)"
   ]
  },
  {
   "cell_type": "markdown",
   "id": "17f382ee",
   "metadata": {},
   "source": [
    "<a name='nn'></a>\n",
    "## Neural Network"
   ]
  },
  {
   "cell_type": "code",
   "execution_count": 50,
   "id": "be9c055b",
   "metadata": {},
   "outputs": [
    {
     "name": "stdout",
     "output_type": "stream",
     "text": [
      "Score: -50.93%"
     ]
    }
   ],
   "source": [
    "nn_regr = make_pipeline(StandardScaler(), MLPRegressor(random_state=1, max_iter=100, hidden_layer_sizes=1, alpha=0.01, solver='sgd', activation='tanh', learning_rate_init=0.005, learning_rate='constant'))\n",
    "nn_regr.fit(X_ga_reshape, y_train)\n",
    "nn_preds = nn_regr.predict(X_test_reshape)\n",
    "nn_score = nn_regr.score(X_test_reshape, y_test) * 100\n",
    "print('Score: %.2f' % nn_score, end='%')"
   ]
  }
 ],
 "metadata": {
  "kernelspec": {
   "display_name": "Python 3 (ipykernel)",
   "language": "python",
   "name": "python3"
  },
  "language_info": {
   "codemirror_mode": {
    "name": "ipython",
    "version": 3
   },
   "file_extension": ".py",
   "mimetype": "text/x-python",
   "name": "python",
   "nbconvert_exporter": "python",
   "pygments_lexer": "ipython3",
   "version": "3.9.7"
  }
 },
 "nbformat": 4,
 "nbformat_minor": 5
}
